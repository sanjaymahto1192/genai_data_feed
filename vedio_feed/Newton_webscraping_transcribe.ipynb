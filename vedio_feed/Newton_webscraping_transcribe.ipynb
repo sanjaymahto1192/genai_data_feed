{
 "cells": [
  {
   "cell_type": "markdown",
   "id": "a0160bc8-17fe-4d0f-bf69-e29e08e3f854",
   "metadata": {},
   "source": [
    "This notebook is used to collect media links from https://www.newtonim.com/uk-institutional/insights/videos/global-equity-quarterly-review-and-update/, download a insight vedio and transcribing the extracted vedio into text "
   ]
  },
  {
   "cell_type": "code",
   "execution_count": 124,
   "id": "f6c08a15-6be6-4788-9ffe-b0ef192b38b4",
   "metadata": {},
   "outputs": [],
   "source": [
    "import requests\n",
    "from bs4 import BeautifulSoup \n",
    "import subprocess\n",
    "import re\n",
    "import m3u8\n",
    "import whisper"
   ]
  },
  {
   "cell_type": "code",
   "execution_count": 3,
   "id": "b6ba4768-c493-4bb0-9a7d-856bd5d07510",
   "metadata": {},
   "outputs": [],
   "source": [
    "html_url = \"https://www.newtonim.com/uk-institutional/insights/\"\n",
    "html_response = requests.get(html_url) \n",
    "soup = BeautifulSoup(html_response.text, 'html.parser') "
   ]
  },
  {
   "cell_type": "code",
   "execution_count": 131,
   "id": "d8507085-2d5e-4a54-b423-275857a0870d",
   "metadata": {},
   "outputs": [],
   "source": [
    "#soup"
   ]
  },
  {
   "cell_type": "code",
   "execution_count": 132,
   "id": "9a749e6c-114d-4cae-9440-b16ad8eaa0c7",
   "metadata": {},
   "outputs": [],
   "source": [
    "url_list = [] \n",
    "pattern = re.compile('^https://')\n",
    "i=0\n",
    "for link in soup.find_all('a', href=True):\n",
    "    if pattern.search(link['href']):\n",
    "        url_list.append(link['href'])\n",
    "        \n",
    "   \n",
    "# links = href['href']"
   ]
  },
  {
   "cell_type": "code",
   "execution_count": 133,
   "id": "66116b8f-abc5-49d3-bed0-e14cdb3f3382",
   "metadata": {},
   "outputs": [
    {
     "data": {
      "text/plain": [
       "list"
      ]
     },
     "execution_count": 133,
     "metadata": {},
     "output_type": "execute_result"
    }
   ],
   "source": [
    "type(url_list)"
   ]
  },
  {
   "cell_type": "code",
   "execution_count": 134,
   "id": "1577d4dc-9f75-4e7d-9a88-9a5b5a6849ab",
   "metadata": {
    "collapsed": true,
    "jupyter": {
     "outputs_hidden": true
    },
    "scrolled": true
   },
   "outputs": [
    {
     "data": {
      "text/plain": [
       "['https://www.newtonim.com',\n",
       " 'https://www.newtonim.com',\n",
       " 'https://www.newtonim.com',\n",
       " 'https://www.newtonim.com/uk-institutional/about-newton/',\n",
       " 'https://www.newtonim.com/uk-institutional/about-newton/our-people/',\n",
       " 'https://www.newtonim.com/uk-institutional/about-newton/our-culture/',\n",
       " 'https://www.newtonim.com/uk-institutional/responsible-investment/corporate-responsibility/',\n",
       " 'https://www.newtonim.com/uk-institutional/careers/diversity-and-inclusion/',\n",
       " 'https://www.newtonim.com/uk-institutional/our-approach/',\n",
       " 'https://www.newtonim.com/uk-institutional/multidimensional-philosophy/',\n",
       " 'https://www.newtonim.com/uk-institutional/responsible-investment/',\n",
       " 'https://www.newtonim.com/uk-institutional/strategies/',\n",
       " 'https://www.newtonim.com/uk-institutional/strategies/#strategy-literature',\n",
       " 'https://www.newtonim.com/uk-institutional/client-solutions/',\n",
       " 'https://www.newtonim.com/uk-institutional/fund/',\n",
       " 'https://www.newtonim.com/uk-institutional/fund/prices/',\n",
       " 'https://www.newtonim.com/uk-institutional/fund/net-performance/',\n",
       " 'https://www.newtonim.com/uk-institutional/fund/key-investor-information-document/',\n",
       " 'https://www.newtonim.com/uk-institutional/insights/',\n",
       " 'https://www.newtonim.com/uk-institutional/fly-on-the-wall/',\n",
       " 'https://www.newtonim.com/uk-institutional/fund/net-performance/',\n",
       " 'https://www.newtonim.com/uk-institutional/fund/gross-performance/',\n",
       " 'https://www.newtonim.com/uk-institutional/fund/ex-ante-costs-and-charges/',\n",
       " 'https://www.newtonim.com/uk-institutional/fund/ex-post-costs-and-charges/',\n",
       " 'https://www.newtonim.com/uk-institutional/fund/key-investor-information-document/',\n",
       " 'https://www.newtonim.com/uk-institutional/',\n",
       " 'https://www.newtonim.com/uk-institutional/insights/articles/how-can-we-unlock-opportunity-in-a-new-market-regime/',\n",
       " 'https://www.newtonim.com/uk-institutional/insights/blog/retake-on-double-take-china-through-an-investment-lens-2/',\n",
       " 'https://www.newtonim.com/uk-institutional/insights/audios/bracing-for-ev-impact/',\n",
       " 'https://www.newtonim.com/uk-institutional/insights/videos/global-income-quarterly-review-and-update/',\n",
       " 'https://www.newtonim.com/uk-institutional/insights/blog/market-outlook-a-case-of-deja-vu/',\n",
       " 'https://www.newtonim.com/uk-institutional/insights/videos/fixed-income-quarterly-outlook/',\n",
       " 'https://www.newtonim.com/uk-institutional/insights/videos/global-equity-quarterly-review-and-update/',\n",
       " 'https://www.newtonim.com/uk-institutional/insights/videos/real-return-quarterly-review-and-update/',\n",
       " 'https://www.newtonim.com/uk-institutional/insights/articles/investment-comment-april-2024/',\n",
       " 'https://www.newtonim.com/uk-institutional/insights/audios/modernising-medicine/',\n",
       " 'https://www.newtonim.com/uk-institutional/insights/videos/global-emerging-markets-quarterly-review-and-update/',\n",
       " 'https://www.newtonim.com/uk-institutional/insights/videos/mixed-assets-quarterly-outlook/',\n",
       " 'https://www.newtonim.com/uk-institutional/insights/audios/the-election-trade-off-2/',\n",
       " 'https://www.newtonim.com/uk-institutional/insights/articles/real-return-navigating-20-years-of-evolving-markets/',\n",
       " 'https://www.newtonim.com/uk-institutional/insights/blog/shareholder-resolutions-defining-newtons-approach/',\n",
       " 'https://www.newtonim.com/uk-institutional/insights/blog/the-allure-of-alternatives-listed-infrastructure-2/',\n",
       " 'https://www.newtonim.com/uk-institutional/insights/audios/realtors-reality/',\n",
       " 'https://www.newtonim.com/uk-institutional/insights/articles/global-opportunities-team-meet-the-managers/',\n",
       " 'https://www.newtonim.com/uk-institutional/insights/blog/recharging-the-ev-trade/',\n",
       " 'https://www.newtonim.com/uk-institutional/insights/blog/mobility-2024-outlook-accelerating-into-the-future-2/',\n",
       " 'https://www.newtonim.com/uk-institutional/insights/audios/the-almighty-dollar-2/',\n",
       " 'https://www.newtonim.com/uk-institutional/insights/blog/coming-to-america-investing-in-utilities-2/',\n",
       " 'https://www.newtonim.com/uk-institutional/insights/blog/parental-leave-supporting-modern-parenthood-2/',\n",
       " 'https://www.newtonim.com/uk-institutional/insights/blog/retake-on-double-take-women-on-the-rise-2/',\n",
       " 'https://www.newtonim.com/uk-institutional/insights/audios/risk-in-the-red-sea-2/',\n",
       " 'https://www.newtonim.com/uk-institutional/insights/blog/china-trip-three-takeaways/',\n",
       " 'https://www.newtonim.com/uk-institutional/insights/blog/what-should-multi-asset-investors-do-now/',\n",
       " 'https://www.newtonim.com/uk-institutional/insights/videos/brainwaves-11-is-it-time-for-an-absolute-return-revival/',\n",
       " 'https://www.newtonim.com/uk-institutional/insights/audios/behind-fed-doors-2/',\n",
       " 'https://www.newtonim.com/uk-institutional/insights/blog/indonesian-elections-presiding-over-an-emerging-powerhouse/',\n",
       " 'https://www.newtonim.com/uk-institutional/insights/videos/sustainable-real-return-quarterly-review-and-update/',\n",
       " 'https://www.newtonim.com/uk-institutional/insights/blog/china-and-the-west-a-tale-of-two-inflations/',\n",
       " 'https://www.newtonim.com/uk-institutional/insights/audios/bug-appetit-2/',\n",
       " 'https://www.newtonim.com/uk-institutional/insights/videos/are-emerging-market-equities-set-to-bounce-back-2/',\n",
       " 'https://www.newtonim.com/uk-institutional/insights/articles/esg-meeting-activity-report-q4-2023/',\n",
       " 'https://www.newtonim.com/uk-institutional/insights/blog/absolute-return-investing-a-new-golden-age/',\n",
       " 'https://www.newtonim.com/uk-institutional/insights/blog/global-equities-outlook-2024/',\n",
       " 'https://www.newtonim.com/uk-institutional/insights/articles/investment-comment-january-2024/',\n",
       " 'https://www.newtonim.com/uk-institutional/insights/audios/the-state-of-the-media-2/',\n",
       " 'https://www.newtonim.com/uk-institutional/insights/blog/a-new-spark-for-clean-hydrogen-2/',\n",
       " 'https://www.newtonim.com/uk-institutional/insights/blog/investment-trusts-good-but-could-do-better/',\n",
       " 'https://www.newtonim.com/uk-institutional/insights/audios/minings-race-to-the-bottom/',\n",
       " 'https://www.newtonim.com/uk-institutional/insights/blog/emerging-market-equities-2024-outlook-better-prospects-ahead/',\n",
       " 'https://www.newtonim.com/uk-institutional/insights/videos/brainwaves-episode-10-macro-matters-how-will-the-economic-slowdown-land-in-2024/',\n",
       " 'https://www.newtonim.com/uk-institutional/insights/articles/real-return-our-2024-outlook/',\n",
       " 'https://www.newtonim.com/uk-institutional/insights/audios/investigative-update-us-labour-relations-a-shift-in-the-power-balance/',\n",
       " 'https://www.newtonim.com/uk-institutional/insights/audios/china-through-an-investment-lens-2/',\n",
       " 'https://www.newtonim.com/uk-institutional/insights/blog/fading-fortunes-the-slowdown-of-cross-border-capital-into-china-2/',\n",
       " 'https://www.newtonim.com/uk-institutional/insights/blog/macro-geopolitical-2024-outlook-pivotal-election-year-ahead/',\n",
       " 'https://www.newtonim.com/uk-institutional/site-map/',\n",
       " 'https://www.newtonim.com/uk-institutional/social-media-policy/',\n",
       " 'https://www.newtonim.com/uk-institutional/cookie-notice/',\n",
       " 'https://www.bnymellon.com/us/en/data-privacy.html',\n",
       " 'https://www.newtonim.com/uk-institutional/important-information/',\n",
       " 'https://www.newtonim.com/info/fraud-notice/',\n",
       " 'https://www.newtonim.com/uk-institutional/careers/',\n",
       " 'https://www.newtonim.com/uk-institutional/contact-us/',\n",
       " 'https://www.bnymellonim.com/',\n",
       " 'https://twitter.com/NewtonIM',\n",
       " 'https://www.linkedin.com/company/newton-investment-management',\n",
       " 'https://www.newtonim.com/uk-institutional/',\n",
       " 'https://www.newtonim.com/uk-lgps/',\n",
       " 'https://www.newtonim.com/uk-charities/',\n",
       " 'https://www.newtonim.com/uk-other-investors/',\n",
       " 'https://www.newtonim.com/us-institutional/',\n",
       " 'https://www.newtonim.com/rest-of-the-world/us-intermediaries/',\n",
       " 'https://www.newtonim.com/canada/',\n",
       " 'https://www.newtonim.com/australia/',\n",
       " 'https://www.newtonim.com/japan-institutional/',\n",
       " 'https://www.newtonim.com/japan-other/',\n",
       " 'https://www.newtonim.com/rest-of-the-world/']"
      ]
     },
     "execution_count": 134,
     "metadata": {},
     "output_type": "execute_result"
    }
   ],
   "source": [
    "url_list"
   ]
  },
  {
   "cell_type": "code",
   "execution_count": 135,
   "id": "455faeb3-eba0-4e21-b8b9-7fe27a72aa70",
   "metadata": {},
   "outputs": [],
   "source": [
    "url = 'https://www.newtonim.com/uk-institutional/insights/videos/global-income-quarterly-review-and-update/'\n",
    "response = requests.get(url) \n",
    "soup_v1 = BeautifulSoup(response.text, 'html.parser') "
   ]
  },
  {
   "cell_type": "code",
   "execution_count": 136,
   "id": "5eef60ee-443f-4f18-aaef-00c90555cd03",
   "metadata": {},
   "outputs": [],
   "source": [
    "with open('soup.html','w') as f:\n",
    "    f.write(str(soup_v1))\n"
   ]
  },
  {
   "cell_type": "code",
   "execution_count": 137,
   "id": "9fe9c597-8893-4935-bad7-29b9cb83ecca",
   "metadata": {},
   "outputs": [],
   "source": [
    "url_list2 = [] \n",
    "pattern2 = re.compile('^https://')\n",
    "for link2 in soup_v1.find_all('a', href=True):\n",
    "    if pattern2.search(link2['href']):\n",
    "        url_list2.append(link2['href'])"
   ]
  },
  {
   "cell_type": "code",
   "execution_count": 138,
   "id": "d3822dfb-dc35-44ed-b8f1-46e774d2b6ba",
   "metadata": {
    "collapsed": true,
    "jupyter": {
     "outputs_hidden": true
    }
   },
   "outputs": [
    {
     "data": {
      "text/plain": [
       "['https://www.newtonim.com',\n",
       " 'https://www.newtonim.com',\n",
       " 'https://www.newtonim.com',\n",
       " 'https://www.newtonim.com/uk-institutional/about-newton/',\n",
       " 'https://www.newtonim.com/uk-institutional/about-newton/our-people/',\n",
       " 'https://www.newtonim.com/uk-institutional/about-newton/our-culture/',\n",
       " 'https://www.newtonim.com/uk-institutional/responsible-investment/corporate-responsibility/',\n",
       " 'https://www.newtonim.com/uk-institutional/careers/diversity-and-inclusion/',\n",
       " 'https://www.newtonim.com/uk-institutional/our-approach/',\n",
       " 'https://www.newtonim.com/uk-institutional/multidimensional-philosophy/',\n",
       " 'https://www.newtonim.com/uk-institutional/responsible-investment/',\n",
       " 'https://www.newtonim.com/uk-institutional/strategies/',\n",
       " 'https://www.newtonim.com/uk-institutional/strategies/#strategy-literature',\n",
       " 'https://www.newtonim.com/uk-institutional/client-solutions/',\n",
       " 'https://www.newtonim.com/uk-institutional/fund/',\n",
       " 'https://www.newtonim.com/uk-institutional/fund/prices/',\n",
       " 'https://www.newtonim.com/uk-institutional/fund/net-performance/',\n",
       " 'https://www.newtonim.com/uk-institutional/fund/key-investor-information-document/',\n",
       " 'https://www.newtonim.com/uk-institutional/insights/',\n",
       " 'https://www.newtonim.com/uk-institutional/fly-on-the-wall/',\n",
       " 'https://www.newtonim.com/uk-institutional/fund/net-performance/',\n",
       " 'https://www.newtonim.com/uk-institutional/fund/gross-performance/',\n",
       " 'https://www.newtonim.com/uk-institutional/fund/ex-ante-costs-and-charges/',\n",
       " 'https://www.newtonim.com/uk-institutional/fund/ex-post-costs-and-charges/',\n",
       " 'https://www.newtonim.com/uk-institutional/fund/key-investor-information-document/',\n",
       " 'https://www.newtonim.com/uk-institutional/',\n",
       " 'https://www.newtonim.com/uk-institutional/insights/videos/fixed-income-quarterly-outlook/',\n",
       " 'https://www.newtonim.com/uk-institutional/fly-on-the-wall/subscription-form/',\n",
       " 'https://www.newtonim.com/uk-institutional/insights/articles/how-can-we-unlock-opportunity-in-a-new-market-regime/',\n",
       " 'https://www.newtonim.com/uk-institutional/insights/blog/market-outlook-a-case-of-deja-vu/',\n",
       " 'https://www.newtonim.com/uk-institutional/insights/videos/fixed-income-quarterly-outlook/',\n",
       " 'https://www.newtonim.com/uk-institutional/site-map/',\n",
       " 'https://www.newtonim.com/uk-institutional/social-media-policy/',\n",
       " 'https://www.newtonim.com/uk-institutional/cookie-notice/',\n",
       " 'https://www.bnymellon.com/us/en/data-privacy.html',\n",
       " 'https://www.newtonim.com/uk-institutional/important-information/',\n",
       " 'https://www.newtonim.com/info/fraud-notice/',\n",
       " 'https://www.newtonim.com/uk-institutional/careers/',\n",
       " 'https://www.newtonim.com/uk-institutional/contact-us/',\n",
       " 'https://www.bnymellonim.com/',\n",
       " 'https://twitter.com/NewtonIM',\n",
       " 'https://www.linkedin.com/company/newton-investment-management',\n",
       " 'https://www.newtonim.com/uk-institutional/',\n",
       " 'https://www.newtonim.com/uk-lgps/',\n",
       " 'https://www.newtonim.com/uk-charities/',\n",
       " 'https://www.newtonim.com/uk-other-investors/',\n",
       " 'https://www.newtonim.com/us-institutional/',\n",
       " 'https://www.newtonim.com/rest-of-the-world/us-intermediaries/',\n",
       " 'https://www.newtonim.com/canada/',\n",
       " 'https://www.newtonim.com/australia/',\n",
       " 'https://www.newtonim.com/japan-institutional/',\n",
       " 'https://www.newtonim.com/japan-other/',\n",
       " 'https://www.newtonim.com/rest-of-the-world/']"
      ]
     },
     "execution_count": 138,
     "metadata": {},
     "output_type": "execute_result"
    }
   ],
   "source": [
    "url_list2"
   ]
  },
  {
   "cell_type": "code",
   "execution_count": 12,
   "id": "960f2e1a-d310-4ac2-9be6-425af64d98c1",
   "metadata": {},
   "outputs": [],
   "source": [
    "URL = 'https://manifest.prod.boltdns.net/manifest/v1/hls/v4/clear/3412563283001/367dc232-0fd6-4ed1-9424-ecd1fd0758a6/10s/master.m3u8?fastly_token=NjYzYTNiNGRfYWNjOWFkYzdkOWU4Mzk5NGJmZGZhZDJmM2ZlZTA5MTNiMGQ5MmYwZWQ4YTlhOTc3OTY1MWFhYzEwZjliMzU5MQ%3D%3D'"
   ]
  },
  {
   "cell_type": "code",
   "execution_count": 15,
   "id": "61684a28-5886-4a13-a44f-a1469d318ba3",
   "metadata": {
    "collapsed": true,
    "jupyter": {
     "outputs_hidden": true
    }
   },
   "outputs": [
    {
     "name": "stdout",
     "output_type": "stream",
     "text": [
      "#EXTM3U\n",
      "#EXT-X-VERSION:4\n",
      "#EXT-X-MEDIA:TYPE=AUDIO,GROUP-ID=\"audio-0\",NAME=\"en (Main)\",DEFAULT=YES,AUTOSELECT=YES,LANGUAGE=\"en\",URI=\"https://manifest.prod.boltdns.net/manifest/v1/hls/v4/clear/3412563283001/367dc232-0fd6-4ed1-9424-ecd1fd0758a6/b186ba1a-c99c-4a77-8ec3-602767200827/10s/rendition.m3u8?fastly_token=NjYzYTNjNDJfOGI1MTU5OGFjZTZkNjdiOGJhOWVjZjQzYWMwMDBlMzQxMGFiMzZiZDU3NDUyYTYzNjU2NDc5NWFhMDhiMGZjNg%3D%3D\"\n",
      "#EXT-X-STREAM-INF:PROGRAM-ID=0,BANDWIDTH=870100,CODECS=\"mp4a.40.2,avc1.42001e\",RESOLUTION=640x360,AUDIO=\"audio-0\",CLOSED-CAPTIONS=NONE\n",
      "https://manifest.prod.boltdns.net/manifest/v1/hls/v4/clear/3412563283001/367dc232-0fd6-4ed1-9424-ecd1fd0758a6/31417be5-0dfd-425c-9155-915e26ad95f0/10s/rendition.m3u8?fastly_token=NjYzYTNjNDJfYjA2MTZiZGRjZmYxZjU5OTkxMzA1ZjRjOWIxZWUwZTljMjA3MzQ2NDQ3ZTYzNWJmOGJhODBhN2VmN2FmNjRjNQ%3D%3D\n",
      "#EXT-X-I-FRAME-STREAM-INF:PROGRAM-ID=0,BANDWIDTH=870100,CODECS=\"mp4a.40.2,avc1.42001e\",RESOLUTION=640x360,URI=\"https://manifest.prod.boltdns.net/manifest/v1/hls/v4/clear/3412563283001/367dc232-0fd6-4ed1-9424-ecd1fd0758a6/31417be5-0dfd-425c-9155-915e26ad95f0/iframe.m3u8?fastly_token=NjYzYTNjNDJfMTlkNmE1MTE0OTljN2NmNTM3MmZmZjgzZGNkNTk5MzIyYjVlY2ZhN2MzMDA5Mzc5MTI1OWNiYWYxZDZjYTMxOQ%3D%3D\"\n",
      "#EXT-X-MEDIA:TYPE=AUDIO,GROUP-ID=\"audio-1\",NAME=\"en (Main)\",DEFAULT=YES,AUTOSELECT=YES,LANGUAGE=\"en\",URI=\"https://manifest.prod.boltdns.net/manifest/v1/hls/v4/clear/3412563283001/367dc232-0fd6-4ed1-9424-ecd1fd0758a6/b89375a1-6edf-43e9-a3eb-ede5c0024822/10s/rendition.m3u8?fastly_token=NjYzYTNjNDJfZjEyMjA3ZDkyZDY1M2NhNGYzZDNhYWMxNmNkYjljMGRhMjI3MDQzYTQ2MDFlYTU5Y2QzNWRjM2UzZDhhOTgxYg%3D%3D\"\n",
      "#EXT-X-STREAM-INF:PROGRAM-ID=0,BANDWIDTH=562100,CODECS=\"mp4a.40.2,avc1.420015\",RESOLUTION=480x270,AUDIO=\"audio-1\",CLOSED-CAPTIONS=NONE\n",
      "https://manifest.prod.boltdns.net/manifest/v1/hls/v4/clear/3412563283001/367dc232-0fd6-4ed1-9424-ecd1fd0758a6/c4a9e946-2455-4485-8d3b-4a5dfac8cdd1/10s/rendition.m3u8?fastly_token=NjYzYTNjNDJfYTUxODM0ZDZiYjI3NjUzYTdlNDgwZWQxNDFhNjllODc1NmI2NTBkYzY1NWU5MzNhZDZmODE0YzFhZWYxOTQ5Nw%3D%3D\n",
      "#EXT-X-I-FRAME-STREAM-INF:PROGRAM-ID=0,BANDWIDTH=562100,CODECS=\"mp4a.40.2,avc1.420015\",RESOLUTION=480x270,URI=\"https://manifest.prod.boltdns.net/manifest/v1/hls/v4/clear/3412563283001/367dc232-0fd6-4ed1-9424-ecd1fd0758a6/c4a9e946-2455-4485-8d3b-4a5dfac8cdd1/iframe.m3u8?fastly_token=NjYzYTNjNDJfMWI2NTEwYzVlNDQ5YWI0MjI3MWVlYTgzNmM2NGMyNTQwNDE2YmU4NGNmODY5YWM0MjQ0YTVhNjY0Zjc4ZDAxYw%3D%3D\"\n",
      "#EXT-X-MEDIA:TYPE=AUDIO,GROUP-ID=\"audio-2\",NAME=\"en (Main)\",DEFAULT=YES,AUTOSELECT=YES,LANGUAGE=\"en\",URI=\"https://manifest.prod.boltdns.net/manifest/v1/hls/v4/clear/3412563283001/367dc232-0fd6-4ed1-9424-ecd1fd0758a6/59bb2182-ecd0-4104-87f2-3fe5e7af17b6/10s/rendition.m3u8?fastly_token=NjYzYTNjNDJfNTBkOWJkMDgzZjc5ZDgxNWZkMDdjNGViNzU0Y2JkYjM4NGM5NTJlNjhjMTUzOWU2MGJmM2ZiYTRjZDhhOTdkOQ%3D%3D\"\n",
      "#EXT-X-STREAM-INF:PROGRAM-ID=0,BANDWIDTH=1111000,CODECS=\"mp4a.40.2,avc1.4d001e\",RESOLUTION=640x360,AUDIO=\"audio-2\",CLOSED-CAPTIONS=NONE\n",
      "https://manifest.prod.boltdns.net/manifest/v1/hls/v4/clear/3412563283001/367dc232-0fd6-4ed1-9424-ecd1fd0758a6/9961ac35-5b3a-4907-a016-0d825d786a39/10s/rendition.m3u8?fastly_token=NjYzYTNjNDJfOTNiNzNmNWZjNDdkMjIyMDZiZTI3MTdmZmM4NmFlOGQ3MWRkZTI5MmY0NGE4Zjc2MzNiMjgwMjU2OTE4MDIyMQ%3D%3D\n",
      "#EXT-X-I-FRAME-STREAM-INF:PROGRAM-ID=0,BANDWIDTH=1111000,CODECS=\"mp4a.40.2,avc1.4d001e\",RESOLUTION=640x360,URI=\"https://manifest.prod.boltdns.net/manifest/v1/hls/v4/clear/3412563283001/367dc232-0fd6-4ed1-9424-ecd1fd0758a6/9961ac35-5b3a-4907-a016-0d825d786a39/iframe.m3u8?fastly_token=NjYzYTNjNDJfMjU0Njk3NzI5OTA2NDYxYjMyN2MzZDM3NGNhNzQ3NTU3MTcyOGNmYjg1YmU5MzEyOGFjNTExOTNkMjFmOTNkZA%3D%3D\"\n",
      "#EXT-X-STREAM-INF:PROGRAM-ID=0,BANDWIDTH=1453100,CODECS=\"mp4a.40.2,avc1.4d001f\",RESOLUTION=960x540,AUDIO=\"audio-2\",CLOSED-CAPTIONS=NONE\n",
      "https://manifest.prod.boltdns.net/manifest/v1/hls/v4/clear/3412563283001/367dc232-0fd6-4ed1-9424-ecd1fd0758a6/f6823680-cd0b-4d8b-930e-18e954d347f9/10s/rendition.m3u8?fastly_token=NjYzYTNjNDJfNzhmMTZlZDBmYzdjYTc1ZGYyMTc0OTgyNzM1N2RjZmY3ZWRlY2M2NmQyZjY1ODg2YTM4NDI4NmE4OWMzZjg3OA%3D%3D\n",
      "#EXT-X-I-FRAME-STREAM-INF:PROGRAM-ID=0,BANDWIDTH=1453100,CODECS=\"mp4a.40.2,avc1.4d001f\",RESOLUTION=960x540,URI=\"https://manifest.prod.boltdns.net/manifest/v1/hls/v4/clear/3412563283001/367dc232-0fd6-4ed1-9424-ecd1fd0758a6/f6823680-cd0b-4d8b-930e-18e954d347f9/iframe.m3u8?fastly_token=NjYzYTNjNDJfYjcyOWIzNzRmNzU1MTFiNzc1YTA2ZmM4N2FkZmIxY2RjNzQ0MjMwNWJkOTc4N2ZiYTUzM2JhNDNmMmFlNWViMg%3D%3D\"\n",
      "#EXT-X-STREAM-INF:PROGRAM-ID=0,BANDWIDTH=1988800,CODECS=\"mp4a.40.2,avc1.4d001f\",RESOLUTION=960x540,AUDIO=\"audio-2\",CLOSED-CAPTIONS=NONE\n",
      "https://manifest.prod.boltdns.net/manifest/v1/hls/v4/clear/3412563283001/367dc232-0fd6-4ed1-9424-ecd1fd0758a6/f0cf4d58-7ac1-4237-a501-cc553c4b0251/10s/rendition.m3u8?fastly_token=NjYzYTNjNDJfZDk2OGVlYjg0MThjOTI5NDVlNDI5ZDI0MDRiYjdmM2MzNDZjZWIxZmQwZDM2ZGJmNjNiNzZmOTkzMzFkMzgxZA%3D%3D\n",
      "#EXT-X-I-FRAME-STREAM-INF:PROGRAM-ID=0,BANDWIDTH=1988800,CODECS=\"mp4a.40.2,avc1.4d001f\",RESOLUTION=960x540,URI=\"https://manifest.prod.boltdns.net/manifest/v1/hls/v4/clear/3412563283001/367dc232-0fd6-4ed1-9424-ecd1fd0758a6/f0cf4d58-7ac1-4237-a501-cc553c4b0251/iframe.m3u8?fastly_token=NjYzYTNjNDJfYmUyZDI5OGQyOTNmNTExNTExNDg3MjNkYWE0MzQxNWUxMDI3NWFiMWU4ZWMzZDRmYzZmMTM2ZDczMTQyNGU2Yw%3D%3D\"\n",
      "#EXT-X-STREAM-INF:PROGRAM-ID=0,BANDWIDTH=2329800,CODECS=\"mp4a.40.2,avc1.4d001f\",RESOLUTION=1280x720,AUDIO=\"audio-2\",CLOSED-CAPTIONS=NONE\n",
      "https://manifest.prod.boltdns.net/manifest/v1/hls/v4/clear/3412563283001/367dc232-0fd6-4ed1-9424-ecd1fd0758a6/dd490118-9a11-49d3-afe4-d283ff087da8/10s/rendition.m3u8?fastly_token=NjYzYTNjNDJfNjcxNzJhNGZiODBhNTI5MTBiYWFhODUxOTFiZDMzNTM3NWFlNjgyMWYyNTE3YWFjYTgwMGQ4MDRjNTdmNjM3YQ%3D%3D\n",
      "#EXT-X-I-FRAME-STREAM-INF:PROGRAM-ID=0,BANDWIDTH=2329800,CODECS=\"mp4a.40.2,avc1.4d001f\",RESOLUTION=1280x720,URI=\"https://manifest.prod.boltdns.net/manifest/v1/hls/v4/clear/3412563283001/367dc232-0fd6-4ed1-9424-ecd1fd0758a6/dd490118-9a11-49d3-afe4-d283ff087da8/iframe.m3u8?fastly_token=NjYzYTNjNDJfY2UwMzlkNDlhMTNhOWNjODM5ZjJjMDA3NWEwOTA3M2FjOGY1ODZmZjNkNThkZTUxOGY1MTEwMWFjMTZlYjc2ZA%3D%3D\"\n",
      "\n"
     ]
    }
   ],
   "source": [
    "print(req.text)"
   ]
  },
  {
   "cell_type": "code",
   "execution_count": 13,
   "id": "dc36cb30-6fa7-404d-9b0d-76cd1a8233ba",
   "metadata": {},
   "outputs": [],
   "source": [
    "req = requests.get(URL)"
   ]
  },
  {
   "cell_type": "code",
   "execution_count": 19,
   "id": "24a726ac-23ce-408d-90ff-dcd0520dbaa1",
   "metadata": {},
   "outputs": [],
   "source": [
    "master = m3u8.loads(req.text)"
   ]
  },
  {
   "cell_type": "code",
   "execution_count": 139,
   "id": "54a451cd-664a-4788-b512-f943c41be00a",
   "metadata": {
    "scrolled": true
   },
   "outputs": [],
   "source": [
    "#master.data"
   ]
  },
  {
   "cell_type": "code",
   "execution_count": 140,
   "id": "97ca68bf-e75a-4a21-bbc5-96155507e90c",
   "metadata": {},
   "outputs": [
    {
     "data": {
      "text/plain": [
       "'https://manifest.prod.boltdns.net/manifest/v1/hls/v4/clear/3412563283001/367dc232-0fd6-4ed1-9424-ecd1fd0758a6/f0cf4d58-7ac1-4237-a501-cc553c4b0251/10s/rendition.m3u8?fastly_token=NjYzYTNjNDJfZDk2OGVlYjg0MThjOTI5NDVlNDI5ZDI0MDRiYjdmM2MzNDZjZWIxZmQwZDM2ZGJmNjNiNzZmOTkzMzFkMzgxZA%3D%3D'"
      ]
     },
     "execution_count": 140,
     "metadata": {},
     "output_type": "execute_result"
    }
   ],
   "source": [
    "master.data['playlists'][4]['uri']"
   ]
  },
  {
   "cell_type": "code",
   "execution_count": 141,
   "id": "40675ef3-fdad-49d8-bf22-a6b08d30d26d",
   "metadata": {},
   "outputs": [
    {
     "data": {
      "text/plain": [
       "'https://manifest.prod.boltdns.net/manifest/v1/hls/v4/clear/3412563283001/367dc232-0fd6-4ed1-9424-ecd1fd0758a6/b89375a1-6edf-43e9-a3eb-ede5c0024822/10s/rendition.m3u8?fastly_token=NjYzYTNjNDJfZjEyMjA3ZDkyZDY1M2NhNGYzZDNhYWMxNmNkYjljMGRhMjI3MDQzYTQ2MDFlYTU5Y2QzNWRjM2UzZDhhOTgxYg%3D%3D'"
      ]
     },
     "execution_count": 141,
     "metadata": {},
     "output_type": "execute_result"
    }
   ],
   "source": [
    "master.data['media'][1]['uri']"
   ]
  },
  {
   "cell_type": "code",
   "execution_count": 142,
   "id": "b314807f-f740-40ff-b542-9c174a16a04a",
   "metadata": {},
   "outputs": [],
   "source": [
    "playlist_video = m3u8.load(master.data['playlists'][4]['uri'])\n",
    "playlist_audio = m3u8.load(master.data['media'][1]['uri'])"
   ]
  },
  {
   "cell_type": "code",
   "execution_count": 143,
   "id": "69f074c7-dc82-407c-a91f-31708a9f777d",
   "metadata": {
    "scrolled": true
   },
   "outputs": [],
   "source": [
    "#playlist_video.data"
   ]
  },
  {
   "cell_type": "code",
   "execution_count": 110,
   "id": "3f1e9849-14fb-4f4a-8416-23eeb94b4e21",
   "metadata": {
    "scrolled": true
   },
   "outputs": [
    {
     "data": {
      "text/plain": [
       "'https://house-fastly-signed-eu-west-1-prod.brightcovecdn.com/media/v1/hls/v4/clear/3412563283001/367dc232-0fd6-4ed1-9424-ecd1fd0758a6/f0cf4d58-7ac1-4237-a501-cc553c4b0251/5x/segment0.ts?fastly_token=NjYzYTQ0NThfMzRlODRlNmJhYjFjNGQ3MWRhODUzN2Y3ZjlhNTk2NTBhNTg0ZDhhNDJlYTkwZWRlODc3M2FkYWQ0Y2MxYWYzZF8vL2hvdXNlLWZhc3RseS1zaWduZWQtZXUtd2VzdC0xLXByb2QuYnJpZ2h0Y292ZWNkbi5jb20vbWVkaWEvdjEvaGxzL3Y0L2NsZWFyLzM0MTI1NjMyODMwMDEvMzY3ZGMyMzItMGZkNi00ZWQxLTk0MjQtZWNkMWZkMDc1OGE2L2YwY2Y0ZDU4LTdhYzEtNDIzNy1hNTAxLWNjNTUzYzRiMDI1MS8%3D'"
      ]
     },
     "execution_count": 110,
     "metadata": {},
     "output_type": "execute_result"
    }
   ],
   "source": [
    "playlist_video.data['segments'][0]['uri']"
   ]
  },
  {
   "cell_type": "code",
   "execution_count": 144,
   "id": "ab793f91-c2ab-4cb7-aeff-57b1bf257e80",
   "metadata": {
    "scrolled": true
   },
   "outputs": [],
   "source": [
    "#playlist_audio.data"
   ]
  },
  {
   "cell_type": "code",
   "execution_count": 146,
   "id": "d4fa8259-29a4-47fb-9d9f-5c2425439d03",
   "metadata": {},
   "outputs": [
    {
     "data": {
      "text/plain": [
       "'https://house-fastly-signed-eu-west-1-prod.brightcovecdn.com/media/v1/hls/v4/clear/3412563283001/367dc232-0fd6-4ed1-9424-ecd1fd0758a6/f0cf4d58-7ac1-4237-a501-cc553c4b0251/5x/segment0.ts?fastly_token=NjYzYTQ0NThfMzRlODRlNmJhYjFjNGQ3MWRhODUzN2Y3ZjlhNTk2NTBhNTg0ZDhhNDJlYTkwZWRlODc3M2FkYWQ0Y2MxYWYzZF8vL2hvdXNlLWZhc3RseS1zaWduZWQtZXUtd2VzdC0xLXByb2QuYnJpZ2h0Y292ZWNkbi5jb20vbWVkaWEvdjEvaGxzL3Y0L2NsZWFyLzM0MTI1NjMyODMwMDEvMzY3ZGMyMzItMGZkNi00ZWQxLTk0MjQtZWNkMWZkMDc1OGE2L2YwY2Y0ZDU4LTdhYzEtNDIzNy1hNTAxLWNjNTUzYzRiMDI1MS8%3D'"
      ]
     },
     "execution_count": 146,
     "metadata": {},
     "output_type": "execute_result"
    }
   ],
   "source": [
    "playlist_video.data['segments'][0]['uri']"
   ]
  },
  {
   "cell_type": "code",
   "execution_count": 145,
   "id": "ce4c8369-cbbb-49a2-b437-50ca08d3c885",
   "metadata": {},
   "outputs": [
    {
     "data": {
      "text/plain": [
       "'https://house-fastly-signed-eu-west-1-prod.brightcovecdn.com/media/v1/hls/v4/clear/3412563283001/367dc232-0fd6-4ed1-9424-ecd1fd0758a6/b186ba1a-c99c-4a77-8ec3-602767200827/5x/segment0.ts?fastly_token=NjYzYTQ1ODJfOTA3YjY4NzQ2ZTdlMTc1Nzg2ODBlZDUyMDAyYTZmMjk0MzZjYjJlMjA2MTQyZTQ1MjY3YmEyNTU5ODVhNTVlM18vL2hvdXNlLWZhc3RseS1zaWduZWQtZXUtd2VzdC0xLXByb2QuYnJpZ2h0Y292ZWNkbi5jb20vbWVkaWEvdjEvaGxzL3Y0L2NsZWFyLzM0MTI1NjMyODMwMDEvMzY3ZGMyMzItMGZkNi00ZWQxLTk0MjQtZWNkMWZkMDc1OGE2L2IxODZiYTFhLWM5OWMtNGE3Ny04ZWMzLTYwMjc2NzIwMDgyNy8%3D'"
      ]
     },
     "execution_count": 145,
     "metadata": {},
     "output_type": "execute_result"
    }
   ],
   "source": [
    "Playlist_audio.data['segments'][0]['uri']"
   ]
  },
  {
   "cell_type": "code",
   "execution_count": 119,
   "id": "600661a2-8f12-4205-9fc6-e69580473839",
   "metadata": {},
   "outputs": [],
   "source": [
    "with open('video.ts','wb') as f:\n",
    "    for segment in playlist_video.data['segments']:\n",
    "        url = segment['uri']\n",
    "        vid_r = requests.get(url)\n",
    "        f.write(vid_r.content)\n",
    "    "
   ]
  },
  {
   "cell_type": "code",
   "execution_count": 114,
   "id": "d2b4c9a5-1610-4274-b9f6-6066514391af",
   "metadata": {},
   "outputs": [],
   "source": [
    "with open('audio.ts','wb') as f:\n",
    "    for segment in playlist_audio.data['segments']:\n",
    "        url = segment['uri']\n",
    "        aud_r = requests.get(url)\n",
    "        f.write(aud_r.content)"
   ]
  },
  {
   "cell_type": "code",
   "execution_count": 85,
   "id": "a9e69653-66ca-44a8-8f12-7c421ca959ca",
   "metadata": {},
   "outputs": [
    {
     "data": {
      "text/plain": [
       "CompletedProcess(args=['ffmpeg', '-i', 'video1.ts', 'video1.mp4'], returncode=0)"
      ]
     },
     "execution_count": 85,
     "metadata": {},
     "output_type": "execute_result"
    }
   ],
   "source": [
    "#subprocess.run(args=['ffmpeg','-i','video.ts','video1.mp4'])"
   ]
  },
  {
   "cell_type": "code",
   "execution_count": 101,
   "id": "e08d26cc-c3eb-4265-b3c5-23483c42c414",
   "metadata": {},
   "outputs": [
    {
     "data": {
      "text/plain": [
       "CompletedProcess(args=['ffmpeg', '-i', 'audio.ts', 'audio.mp4'], returncode=0)"
      ]
     },
     "execution_count": 101,
     "metadata": {},
     "output_type": "execute_result"
    }
   ],
   "source": [
    "#subprocess.run(args=['ffmpeg','-i','audio.ts','audio.mp4'])"
   ]
  },
  {
   "cell_type": "code",
   "execution_count": 121,
   "id": "8ccfafcc-f017-4951-a8c9-bcdb11ad8cb3",
   "metadata": {},
   "outputs": [
    {
     "data": {
      "text/plain": [
       "CompletedProcess(args=['ffmpeg', '-i', 'video.ts', '-i', 'audio.ts', '-c', 'copy', 'Newton_vid1.mp4'], returncode=0)"
      ]
     },
     "execution_count": 121,
     "metadata": {},
     "output_type": "execute_result"
    }
   ],
   "source": [
    "subprocess.run(args=['ffmpeg', '-i', 'video.ts', '-i', 'audio.ts', '-c', 'copy', 'Newton_vid1.mp4'])"
   ]
  },
  {
   "cell_type": "code",
   "execution_count": 125,
   "id": "09906f45-246f-4b54-a8a0-8f199474463f",
   "metadata": {},
   "outputs": [],
   "source": [
    "model = whisper.load_model('base.en')"
   ]
  },
  {
   "cell_type": "code",
   "execution_count": 127,
   "id": "0a80393f-e7b6-4afd-820f-2c88aa6ade4f",
   "metadata": {},
   "outputs": [],
   "source": [
    "result = model.transcribe('newton_vid1.mp4')"
   ]
  },
  {
   "cell_type": "code",
   "execution_count": 129,
   "id": "5c6b6674-be44-41ba-9d5a-2ee783eb4f51",
   "metadata": {
    "collapsed": true,
    "jupyter": {
     "outputs_hidden": true
    }
   },
   "outputs": [
    {
     "data": {
      "text/plain": [
       "{'text': \" The market continues to be dominated by the outlook for inflation and subsequent central bank decisions. Inflation has been more persistent than originally expected, with the first rate cuts having been pushed out from March to June. We've started to see some divergence too in headline data numbers by region, with the US economy seemingly hotter than the UK and Europe. This could in time lead to some variance in returns, but for now the market remains buoyant that we can tolerate this higher inflation for longer and still reach us off landing. For us, given these macro dynamics are so hard to predict, we choose to take a more bottom up approach, looking at companies and their respective growth drivers on a stock specific basis. For example, we've seen an opportunity to add to our consumer staples' exposure, as these more steady revenue-generating companies were left behind on the risk rally at the start of the year. We believe their strong brand equity and the resilience of their earnings, coupled with some stock specific internal improvement strategies for some, will see these players fare well if we enter a period of slower growth. We also continue to light pockets of the industrial space. The ever-growing need for automisation against a backdrop of labour shortages and inflation, as well as pressure to reduce our energy consumption, are all supportive tailwinds to some companies in this space. It's taken much longer than expected for supply chains to normalise, but increasingly it feels like visibility is getting better here, while these tailwinds should still persist.\",\n",
       " 'segments': [{'id': 0,\n",
       "   'seek': 0,\n",
       "   'start': 0.0,\n",
       "   'end': 9.44,\n",
       "   'text': ' The market continues to be dominated by the outlook for inflation and subsequent central',\n",
       "   'tokens': [50363,\n",
       "    383,\n",
       "    1910,\n",
       "    4477,\n",
       "    284,\n",
       "    307,\n",
       "    13354,\n",
       "    416,\n",
       "    262,\n",
       "    19360,\n",
       "    329,\n",
       "    10610,\n",
       "    290,\n",
       "    8840,\n",
       "    4318,\n",
       "    50835],\n",
       "   'temperature': 0.0,\n",
       "   'avg_logprob': -0.1658116201075112,\n",
       "   'compression_ratio': 1.5142857142857142,\n",
       "   'no_speech_prob': 0.008753504604101181},\n",
       "  {'id': 1,\n",
       "   'seek': 0,\n",
       "   'start': 9.44,\n",
       "   'end': 11.36,\n",
       "   'text': ' bank decisions.',\n",
       "   'tokens': [50835, 3331, 5370, 13, 50931],\n",
       "   'temperature': 0.0,\n",
       "   'avg_logprob': -0.1658116201075112,\n",
       "   'compression_ratio': 1.5142857142857142,\n",
       "   'no_speech_prob': 0.008753504604101181},\n",
       "  {'id': 2,\n",
       "   'seek': 0,\n",
       "   'start': 11.36,\n",
       "   'end': 15.68,\n",
       "   'text': ' Inflation has been more persistent than originally expected, with the first rate cuts having been',\n",
       "   'tokens': [50931,\n",
       "    554,\n",
       "    33521,\n",
       "    468,\n",
       "    587,\n",
       "    517,\n",
       "    16218,\n",
       "    621,\n",
       "    6198,\n",
       "    2938,\n",
       "    11,\n",
       "    351,\n",
       "    262,\n",
       "    717,\n",
       "    2494,\n",
       "    6630,\n",
       "    1719,\n",
       "    587,\n",
       "    51147],\n",
       "   'temperature': 0.0,\n",
       "   'avg_logprob': -0.1658116201075112,\n",
       "   'compression_ratio': 1.5142857142857142,\n",
       "   'no_speech_prob': 0.008753504604101181},\n",
       "  {'id': 3,\n",
       "   'seek': 0,\n",
       "   'start': 15.68,\n",
       "   'end': 18.44,\n",
       "   'text': ' pushed out from March to June.',\n",
       "   'tokens': [51147, 7121, 503, 422, 2805, 284, 2795, 13, 51285],\n",
       "   'temperature': 0.0,\n",
       "   'avg_logprob': -0.1658116201075112,\n",
       "   'compression_ratio': 1.5142857142857142,\n",
       "   'no_speech_prob': 0.008753504604101181},\n",
       "  {'id': 4,\n",
       "   'seek': 0,\n",
       "   'start': 18.44,\n",
       "   'end': 23.5,\n",
       "   'text': \" We've started to see some divergence too in headline data numbers by region, with the\",\n",
       "   'tokens': [51285,\n",
       "    775,\n",
       "    1053,\n",
       "    2067,\n",
       "    284,\n",
       "    766,\n",
       "    617,\n",
       "    43366,\n",
       "    1165,\n",
       "    287,\n",
       "    16534,\n",
       "    1366,\n",
       "    3146,\n",
       "    416,\n",
       "    3814,\n",
       "    11,\n",
       "    351,\n",
       "    262,\n",
       "    51538],\n",
       "   'temperature': 0.0,\n",
       "   'avg_logprob': -0.1658116201075112,\n",
       "   'compression_ratio': 1.5142857142857142,\n",
       "   'no_speech_prob': 0.008753504604101181},\n",
       "  {'id': 5,\n",
       "   'seek': 0,\n",
       "   'start': 23.5,\n",
       "   'end': 27.28,\n",
       "   'text': ' US economy seemingly hotter than the UK and Europe.',\n",
       "   'tokens': [51538,\n",
       "    1294,\n",
       "    3773,\n",
       "    9775,\n",
       "    37546,\n",
       "    621,\n",
       "    262,\n",
       "    3482,\n",
       "    290,\n",
       "    2031,\n",
       "    13,\n",
       "    51727],\n",
       "   'temperature': 0.0,\n",
       "   'avg_logprob': -0.1658116201075112,\n",
       "   'compression_ratio': 1.5142857142857142,\n",
       "   'no_speech_prob': 0.008753504604101181},\n",
       "  {'id': 6,\n",
       "   'seek': 2728,\n",
       "   'start': 27.28,\n",
       "   'end': 31.92,\n",
       "   'text': ' This could in time lead to some variance in returns, but for now the market remains buoyant',\n",
       "   'tokens': [50363,\n",
       "    770,\n",
       "    714,\n",
       "    287,\n",
       "    640,\n",
       "    1085,\n",
       "    284,\n",
       "    617,\n",
       "    24198,\n",
       "    287,\n",
       "    5860,\n",
       "    11,\n",
       "    475,\n",
       "    329,\n",
       "    783,\n",
       "    262,\n",
       "    1910,\n",
       "    3793,\n",
       "    36675,\n",
       "    415,\n",
       "    50595],\n",
       "   'temperature': 0.0,\n",
       "   'avg_logprob': -0.1752453583937425,\n",
       "   'compression_ratio': 1.6093189964157706,\n",
       "   'no_speech_prob': 0.284197062253952},\n",
       "  {'id': 7,\n",
       "   'seek': 2728,\n",
       "   'start': 31.92,\n",
       "   'end': 37.2,\n",
       "   'text': ' that we can tolerate this higher inflation for longer and still reach us off landing.',\n",
       "   'tokens': [50595,\n",
       "    326,\n",
       "    356,\n",
       "    460,\n",
       "    21923,\n",
       "    428,\n",
       "    2440,\n",
       "    10610,\n",
       "    329,\n",
       "    2392,\n",
       "    290,\n",
       "    991,\n",
       "    3151,\n",
       "    514,\n",
       "    572,\n",
       "    9581,\n",
       "    13,\n",
       "    50859],\n",
       "   'temperature': 0.0,\n",
       "   'avg_logprob': -0.1752453583937425,\n",
       "   'compression_ratio': 1.6093189964157706,\n",
       "   'no_speech_prob': 0.284197062253952},\n",
       "  {'id': 8,\n",
       "   'seek': 2728,\n",
       "   'start': 37.2,\n",
       "   'end': 41.8,\n",
       "   'text': ' For us, given these macro dynamics are so hard to predict, we choose to take a more bottom',\n",
       "   'tokens': [50859,\n",
       "    1114,\n",
       "    514,\n",
       "    11,\n",
       "    1813,\n",
       "    777,\n",
       "    15021,\n",
       "    17262,\n",
       "    389,\n",
       "    523,\n",
       "    1327,\n",
       "    284,\n",
       "    4331,\n",
       "    11,\n",
       "    356,\n",
       "    3853,\n",
       "    284,\n",
       "    1011,\n",
       "    257,\n",
       "    517,\n",
       "    4220,\n",
       "    51089],\n",
       "   'temperature': 0.0,\n",
       "   'avg_logprob': -0.1752453583937425,\n",
       "   'compression_ratio': 1.6093189964157706,\n",
       "   'no_speech_prob': 0.284197062253952},\n",
       "  {'id': 9,\n",
       "   'seek': 2728,\n",
       "   'start': 41.8,\n",
       "   'end': 46.44,\n",
       "   'text': ' up approach, looking at companies and their respective growth drivers on a stock specific',\n",
       "   'tokens': [51089,\n",
       "    510,\n",
       "    3164,\n",
       "    11,\n",
       "    2045,\n",
       "    379,\n",
       "    2706,\n",
       "    290,\n",
       "    511,\n",
       "    11756,\n",
       "    3349,\n",
       "    6643,\n",
       "    319,\n",
       "    257,\n",
       "    4283,\n",
       "    2176,\n",
       "    51321],\n",
       "   'temperature': 0.0,\n",
       "   'avg_logprob': -0.1752453583937425,\n",
       "   'compression_ratio': 1.6093189964157706,\n",
       "   'no_speech_prob': 0.284197062253952},\n",
       "  {'id': 10,\n",
       "   'seek': 2728,\n",
       "   'start': 46.44,\n",
       "   'end': 48.120000000000005,\n",
       "   'text': ' basis.',\n",
       "   'tokens': [51321, 4308, 13, 51405],\n",
       "   'temperature': 0.0,\n",
       "   'avg_logprob': -0.1752453583937425,\n",
       "   'compression_ratio': 1.6093189964157706,\n",
       "   'no_speech_prob': 0.284197062253952},\n",
       "  {'id': 11,\n",
       "   'seek': 2728,\n",
       "   'start': 48.120000000000005,\n",
       "   'end': 52.480000000000004,\n",
       "   'text': \" For example, we've seen an opportunity to add to our consumer staples' exposure, as\",\n",
       "   'tokens': [51405,\n",
       "    1114,\n",
       "    1672,\n",
       "    11,\n",
       "    356,\n",
       "    1053,\n",
       "    1775,\n",
       "    281,\n",
       "    3663,\n",
       "    284,\n",
       "    751,\n",
       "    284,\n",
       "    674,\n",
       "    7172,\n",
       "    46413,\n",
       "    6,\n",
       "    7111,\n",
       "    11,\n",
       "    355,\n",
       "    51623],\n",
       "   'temperature': 0.0,\n",
       "   'avg_logprob': -0.1752453583937425,\n",
       "   'compression_ratio': 1.6093189964157706,\n",
       "   'no_speech_prob': 0.284197062253952},\n",
       "  {'id': 12,\n",
       "   'seek': 5248,\n",
       "   'start': 52.48,\n",
       "   'end': 57.559999999999995,\n",
       "   'text': ' these more steady revenue-generating companies were left behind on the risk rally at the',\n",
       "   'tokens': [50363,\n",
       "    777,\n",
       "    517,\n",
       "    11831,\n",
       "    6426,\n",
       "    12,\n",
       "    8612,\n",
       "    803,\n",
       "    2706,\n",
       "    547,\n",
       "    1364,\n",
       "    2157,\n",
       "    319,\n",
       "    262,\n",
       "    2526,\n",
       "    7903,\n",
       "    379,\n",
       "    262,\n",
       "    50617],\n",
       "   'temperature': 0.0,\n",
       "   'avg_logprob': -0.14699479057675316,\n",
       "   'compression_ratio': 1.6416382252559727,\n",
       "   'no_speech_prob': 0.13711166381835938},\n",
       "  {'id': 13,\n",
       "   'seek': 5248,\n",
       "   'start': 57.559999999999995,\n",
       "   'end': 59.68,\n",
       "   'text': ' start of the year.',\n",
       "   'tokens': [50617, 923, 286, 262, 614, 13, 50723],\n",
       "   'temperature': 0.0,\n",
       "   'avg_logprob': -0.14699479057675316,\n",
       "   'compression_ratio': 1.6416382252559727,\n",
       "   'no_speech_prob': 0.13711166381835938},\n",
       "  {'id': 14,\n",
       "   'seek': 5248,\n",
       "   'start': 59.68,\n",
       "   'end': 63.64,\n",
       "   'text': ' We believe their strong brand equity and the resilience of their earnings, coupled with',\n",
       "   'tokens': [50723,\n",
       "    775,\n",
       "    1975,\n",
       "    511,\n",
       "    1913,\n",
       "    4508,\n",
       "    13598,\n",
       "    290,\n",
       "    262,\n",
       "    31307,\n",
       "    286,\n",
       "    511,\n",
       "    12042,\n",
       "    11,\n",
       "    18064,\n",
       "    351,\n",
       "    50921],\n",
       "   'temperature': 0.0,\n",
       "   'avg_logprob': -0.14699479057675316,\n",
       "   'compression_ratio': 1.6416382252559727,\n",
       "   'no_speech_prob': 0.13711166381835938},\n",
       "  {'id': 15,\n",
       "   'seek': 5248,\n",
       "   'start': 63.64,\n",
       "   'end': 69.08,\n",
       "   'text': ' some stock specific internal improvement strategies for some, will see these players fare well',\n",
       "   'tokens': [50921,\n",
       "    617,\n",
       "    4283,\n",
       "    2176,\n",
       "    5387,\n",
       "    9025,\n",
       "    10064,\n",
       "    329,\n",
       "    617,\n",
       "    11,\n",
       "    481,\n",
       "    766,\n",
       "    777,\n",
       "    1938,\n",
       "    14505,\n",
       "    880,\n",
       "    51193],\n",
       "   'temperature': 0.0,\n",
       "   'avg_logprob': -0.14699479057675316,\n",
       "   'compression_ratio': 1.6416382252559727,\n",
       "   'no_speech_prob': 0.13711166381835938},\n",
       "  {'id': 16,\n",
       "   'seek': 5248,\n",
       "   'start': 69.08,\n",
       "   'end': 71.92,\n",
       "   'text': ' if we enter a period of slower growth.',\n",
       "   'tokens': [51193, 611, 356, 3802, 257, 2278, 286, 13611, 3349, 13, 51335],\n",
       "   'temperature': 0.0,\n",
       "   'avg_logprob': -0.14699479057675316,\n",
       "   'compression_ratio': 1.6416382252559727,\n",
       "   'no_speech_prob': 0.13711166381835938},\n",
       "  {'id': 17,\n",
       "   'seek': 5248,\n",
       "   'start': 71.92,\n",
       "   'end': 75.52,\n",
       "   'text': ' We also continue to light pockets of the industrial space.',\n",
       "   'tokens': [51335,\n",
       "    775,\n",
       "    635,\n",
       "    2555,\n",
       "    284,\n",
       "    1657,\n",
       "    16511,\n",
       "    286,\n",
       "    262,\n",
       "    7593,\n",
       "    2272,\n",
       "    13,\n",
       "    51515],\n",
       "   'temperature': 0.0,\n",
       "   'avg_logprob': -0.14699479057675316,\n",
       "   'compression_ratio': 1.6416382252559727,\n",
       "   'no_speech_prob': 0.13711166381835938},\n",
       "  {'id': 18,\n",
       "   'seek': 5248,\n",
       "   'start': 75.52,\n",
       "   'end': 80.92,\n",
       "   'text': ' The ever-growing need for automisation against a backdrop of labour shortages and inflation,',\n",
       "   'tokens': [51515,\n",
       "    383,\n",
       "    1683,\n",
       "    12,\n",
       "    25167,\n",
       "    761,\n",
       "    329,\n",
       "    3557,\n",
       "    5612,\n",
       "    1028,\n",
       "    257,\n",
       "    26373,\n",
       "    286,\n",
       "    10515,\n",
       "    28791,\n",
       "    290,\n",
       "    10610,\n",
       "    11,\n",
       "    51785],\n",
       "   'temperature': 0.0,\n",
       "   'avg_logprob': -0.14699479057675316,\n",
       "   'compression_ratio': 1.6416382252559727,\n",
       "   'no_speech_prob': 0.13711166381835938},\n",
       "  {'id': 19,\n",
       "   'seek': 8092,\n",
       "   'start': 80.92,\n",
       "   'end': 85.04,\n",
       "   'text': ' as well as pressure to reduce our energy consumption, are all supportive tailwinds to',\n",
       "   'tokens': [50363,\n",
       "    355,\n",
       "    880,\n",
       "    355,\n",
       "    3833,\n",
       "    284,\n",
       "    4646,\n",
       "    674,\n",
       "    2568,\n",
       "    7327,\n",
       "    11,\n",
       "    389,\n",
       "    477,\n",
       "    16443,\n",
       "    7894,\n",
       "    7972,\n",
       "    82,\n",
       "    284,\n",
       "    50569],\n",
       "   'temperature': 0.0,\n",
       "   'avg_logprob': -0.16013132442127576,\n",
       "   'compression_ratio': 1.5154639175257731,\n",
       "   'no_speech_prob': 0.04190429300069809},\n",
       "  {'id': 20,\n",
       "   'seek': 8092,\n",
       "   'start': 85.04,\n",
       "   'end': 87.04,\n",
       "   'text': ' some companies in this space.',\n",
       "   'tokens': [50569, 617, 2706, 287, 428, 2272, 13, 50669],\n",
       "   'temperature': 0.0,\n",
       "   'avg_logprob': -0.16013132442127576,\n",
       "   'compression_ratio': 1.5154639175257731,\n",
       "   'no_speech_prob': 0.04190429300069809},\n",
       "  {'id': 21,\n",
       "   'seek': 8092,\n",
       "   'start': 87.04,\n",
       "   'end': 91.76,\n",
       "   'text': \" It's taken much longer than expected for supply chains to normalise, but increasingly\",\n",
       "   'tokens': [50669,\n",
       "    632,\n",
       "    338,\n",
       "    2077,\n",
       "    881,\n",
       "    2392,\n",
       "    621,\n",
       "    2938,\n",
       "    329,\n",
       "    5127,\n",
       "    14659,\n",
       "    284,\n",
       "    3487,\n",
       "    786,\n",
       "    11,\n",
       "    475,\n",
       "    6481,\n",
       "    50905],\n",
       "   'temperature': 0.0,\n",
       "   'avg_logprob': -0.16013132442127576,\n",
       "   'compression_ratio': 1.5154639175257731,\n",
       "   'no_speech_prob': 0.04190429300069809},\n",
       "  {'id': 22,\n",
       "   'seek': 8092,\n",
       "   'start': 91.76,\n",
       "   'end': 96.6,\n",
       "   'text': ' it feels like visibility is getting better here, while these tailwinds should still persist.',\n",
       "   'tokens': [50905,\n",
       "    340,\n",
       "    5300,\n",
       "    588,\n",
       "    20742,\n",
       "    318,\n",
       "    1972,\n",
       "    1365,\n",
       "    994,\n",
       "    11,\n",
       "    981,\n",
       "    777,\n",
       "    7894,\n",
       "    7972,\n",
       "    82,\n",
       "    815,\n",
       "    991,\n",
       "    21160,\n",
       "    13,\n",
       "    51147],\n",
       "   'temperature': 0.0,\n",
       "   'avg_logprob': -0.16013132442127576,\n",
       "   'compression_ratio': 1.5154639175257731,\n",
       "   'no_speech_prob': 0.04190429300069809}],\n",
       " 'language': 'en'}"
      ]
     },
     "execution_count": 129,
     "metadata": {},
     "output_type": "execute_result"
    }
   ],
   "source": [
    "result"
   ]
  },
  {
   "cell_type": "code",
   "execution_count": 130,
   "id": "9cd1620e-8fb5-40d4-9eae-2a9b5cf7ec64",
   "metadata": {},
   "outputs": [],
   "source": [
    "with open('Newton_vid1_transcription.txt','w')as file:\n",
    "    file.write(result['text'])"
   ]
  }
 ],
 "metadata": {
  "kernelspec": {
   "display_name": "Python 3 (ipykernel)",
   "language": "python",
   "name": "python3"
  },
  "language_info": {
   "codemirror_mode": {
    "name": "ipython",
    "version": 3
   },
   "file_extension": ".py",
   "mimetype": "text/x-python",
   "name": "python",
   "nbconvert_exporter": "python",
   "pygments_lexer": "ipython3",
   "version": "3.12.3"
  }
 },
 "nbformat": 4,
 "nbformat_minor": 5
}
